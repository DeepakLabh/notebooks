{
 "cells": [
  {
   "cell_type": "code",
   "execution_count": 2,
   "metadata": {},
   "outputs": [
    {
     "name": "stderr",
     "output_type": "stream",
     "text": [
      "Using TensorFlow backend.\n"
     ]
    },
    {
     "name": "stdout",
     "output_type": "stream",
     "text": [
      "libs loaded ...\n"
     ]
    }
   ],
   "source": [
    "import pandas as pd\n",
    "import keras\n",
    "import numpy as np\n",
    "from datetime import datetime\n",
    "import matplotlib.pyplot as plt\n",
    "\n",
    "print (\"libs loaded ...\")"
   ]
  },
  {
   "cell_type": "code",
   "execution_count": 25,
   "metadata": {},
   "outputs": [
    {
     "name": "stdout",
     "output_type": "stream",
     "text": [
      "UNiQUE store no and item no count:  54 3299\n"
     ]
    }
   ],
   "source": [
    "train = pd.read_csv('~/deepak/competitions/kaggle/grocery/data/train_random.csv',  parse_dates=['date'])\n",
    "\n",
    "#train['day'] = train['date'].dt.day\n",
    "#train['month'] = train['date'].dt.month\n",
    "#train['dayofweek'] = train['date'].dt.dayofweek\n",
    "\n",
    "unique_str = train['store_nbr'].unique()\n",
    "unique_item = train['item_nbr'].unique()\n",
    "print (\"UNiQUE store no and item no count: \",len(unique_str), len(unique_item))"
   ]
  },
  {
   "cell_type": "code",
   "execution_count": 26,
   "metadata": {},
   "outputs": [
    {
     "name": "stdout",
     "output_type": "stream",
     "text": [
      "(11000, 12) \n",
      "\n"
     ]
    }
   ],
   "source": [
    "\"\"\"\n",
    "Sin and Cosine transform of dates: Cyclic transform\n",
    "\"\"\"\n",
    "train['sin_month'] = np.sin(2*np.pi*train['date'].dt.month/12)\n",
    "train['sin_day'] = np.sin(2*np.pi*train['date'].dt.day/31)\n",
    "train['sin_dayofweek'] = np.sin(2*np.pi*train['date'].dt.dayofweek/7)\n",
    "    \n",
    "train['cos_month'] = np.cos(2*np.pi*train['date'].dt.month/12)\n",
    "train['cos_day'] = np.cos(2*np.pi*train['date'].dt.day/31)\n",
    "train['cos_dayofweek'] = np.cos(2*np.pi*train['date'].dt.dayofweek/7)\n",
    "\n",
    "print (train.shape,'\\n')#, train.head(), '\\n')#, train.keys())\n"
   ]
  },
  {
   "cell_type": "code",
   "execution_count": 42,
   "metadata": {},
   "outputs": [
    {
     "name": "stdout",
     "output_type": "stream",
     "text": [
      "         id       date  store_nbr  item_nbr  unit_sales onpromotion  \\\n",
      "7191  41701 2013-01-02         54    172184         1.0         NaN   \n",
      "909   34232 2013-01-02         45    716245         2.0         NaN   \n",
      "5404  25904 2013-01-02         34    268662         5.0         NaN   \n",
      "9381  72646 2013-01-03         43   1036320         2.0         NaN   \n",
      "8705  74918 2013-01-03         45    949296         9.0         NaN   \n",
      "\n",
      "      sin_month   sin_day  sin_dayofweek  cos_month   cos_day  cos_dayofweek  \n",
      "7191        0.5  0.394356       0.974928   0.866025  0.918958      -0.222521  \n",
      "909         0.5  0.394356       0.974928   0.866025  0.918958      -0.222521  \n",
      "5404        0.5  0.394356       0.974928   0.866025  0.918958      -0.222521  \n",
      "9381        0.5  0.571268       0.433884   0.866025  0.820763      -0.900969  \n",
      "8705        0.5  0.571268       0.433884   0.866025  0.820763      -0.900969  \n"
     ]
    }
   ],
   "source": [
    "print (train.head())"
   ]
  },
  {
   "cell_type": "code",
   "execution_count": 41,
   "metadata": {},
   "outputs": [
    {
     "name": "stdout",
     "output_type": "stream",
     "text": [
      "10547\n"
     ]
    },
    {
     "data": {
      "image/png": "[encoded data removed]",
      "text/plain": [
       "<matplotlib.figure.Figure at 0x7f5dbb69e898>"
      ]
     },
     "metadata": {},
     "output_type": "display_data"
    }
   ],
   "source": [
    "train = train.sort_values(by = 'date')\n",
    "ti = train.groupby(['store_nbr', 'item_nbr'])\n",
    "print (len(ti))\n",
    "# # print (train.head(20))\n",
    "# # plt.plot(train['unit_sales'], 'r.')\n",
    "# plt.plot(train['cos_day'], train['sin_day'], 'b.')\n",
    "# plt.show()"
   ]
  },
  {
   "cell_type": "code",
   "execution_count": null,
   "metadata": {},
   "outputs": [],
   "source": []
  }
 ],
 "metadata": {
  "kernelspec": {
   "display_name": "py3env",
   "language": "python",
   "name": "py3env"
  },
  "language_info": {
   "codemirror_mode": {
    "name": "ipython",
    "version": 3
   },
   "file_extension": ".py",
   "mimetype": "text/x-python",
   "name": "python",
   "nbconvert_exporter": "python",
   "pygments_lexer": "ipython3",
   "version": "3.5.2"
  }
 },
 "nbformat": 4,
 "nbformat_minor": 2
}
